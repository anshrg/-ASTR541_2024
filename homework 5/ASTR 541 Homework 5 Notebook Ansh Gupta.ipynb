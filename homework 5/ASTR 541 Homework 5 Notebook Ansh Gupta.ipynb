{
 "cells": [
  {
   "cell_type": "markdown",
   "id": "833bf97e",
   "metadata": {},
   "source": [
    "# ASTR 541 Homework 5 Code Notebook\n",
    "#### By Ansh Gupta"
   ]
  },
  {
   "cell_type": "code",
   "execution_count": 1,
   "id": "62ff6ab6",
   "metadata": {},
   "outputs": [],
   "source": [
    "import numpy as np\n",
    "from cosmology import cosmology # cosmology calculator from homework 3"
   ]
  },
  {
   "cell_type": "markdown",
   "id": "99ab3d20",
   "metadata": {},
   "source": [
    "## Problem 1"
   ]
  },
  {
   "cell_type": "markdown",
   "id": "528d7c6e",
   "metadata": {},
   "source": [
    "### e)"
   ]
  },
  {
   "cell_type": "code",
   "execution_count": 2,
   "id": "0d19bf64",
   "metadata": {},
   "outputs": [],
   "source": [
    "cosmo_1 = cosmology(70, 0.2, 0) # omega_m = 0.2, lambda = 0\n",
    "cosmo_2 = cosmology(70, 0.4, 0) # omega_m = 0.4, lambda = 0\n",
    "cosmo_3 = cosmology(70, 1, 0) # omega_m = 1, lambda = 0"
   ]
  },
  {
   "cell_type": "code",
   "execution_count": 3,
   "id": "4c64face",
   "metadata": {},
   "outputs": [],
   "source": [
    "def sound_horizon(cosmo, z, Om0):\n",
    "    H_z = cosmo._H0\n",
    "    z_eq = 24000 * Om0 * 0.7**2\n",
    "    Or0 = Om0/(1 + z_eq)\n",
    "    prefactor = np.sqrt(Or0*z**2 + (Om0+2*Or0)*z + Om0 + Or0)/(Om0*(1+z)) - np.sqrt(Or0)/Om0\n",
    "\n",
    "    return 2 * 3e5 / np.sqrt(3) / H_z * prefactor"
   ]
  },
  {
   "cell_type": "code",
   "execution_count": 4,
   "id": "a675bb89",
   "metadata": {},
   "outputs": [
    {
     "name": "stdout",
     "output_type": "stream",
     "text": [
      "Angular Wavenumber for omega_m = 0.2: 796.8\n",
      "Angular Wavenumber for omega_m = 0.4: 499.8\n",
      "Angular Wavenumber for omega_m = 1:   283.0\n"
     ]
    }
   ],
   "source": [
    "print(f\"Angular Wavenumber for omega_m = 0.2: {4*cosmo_1._D_M(1000)/sound_horizon(cosmo_1, 1000, 0.2):.4}\")\n",
    "print(f\"Angular Wavenumber for omega_m = 0.4: {4*cosmo_2._D_M(1000)/sound_horizon(cosmo_2, 1000, 0.4):.4}\")\n",
    "print(f\"Angular Wavenumber for omega_m = 1:   {4*cosmo_3._D_M(1000)/sound_horizon(cosmo_3, 1000, 1):.4}\")"
   ]
  },
  {
   "cell_type": "markdown",
   "id": "2fcc383b",
   "metadata": {},
   "source": [
    "### f)"
   ]
  },
  {
   "cell_type": "code",
   "execution_count": 5,
   "id": "8e610b32",
   "metadata": {},
   "outputs": [],
   "source": [
    "cosmo_4 = cosmology(70, 0.2, 0.8) # omega_m = 0.2, lambda = 0.8\n",
    "cosmo_5 = cosmology(70, 0.4, 0.6) # omega_m = 0.4, lambda = 0.6"
   ]
  },
  {
   "cell_type": "code",
   "execution_count": 6,
   "id": "28ee6cdc",
   "metadata": {},
   "outputs": [
    {
     "name": "stdout",
     "output_type": "stream",
     "text": [
      "Angular Wavenumber for omega_m = 0.2, omega_lambda = 0.8: 339.3\n",
      "Angular Wavenumber for omega_m = 0.4, omega_lambda = 0.6: 307.4\n"
     ]
    }
   ],
   "source": [
    "print(f\"Angular Wavenumber for omega_m = 0.2, omega_lambda = 0.8: \\\n",
    "{4*cosmo_4._D_M(1000)/sound_horizon(cosmo_4, 1000, 0.2):.4}\")\n",
    "print(f\"Angular Wavenumber for omega_m = 0.4, omega_lambda = 0.6: \\\n",
    "{4*cosmo_5._D_M(1000)/sound_horizon(cosmo_5, 1000, 0.4):.4}\")"
   ]
  },
  {
   "cell_type": "markdown",
   "id": "e374071d",
   "metadata": {},
   "source": [
    "## 2)"
   ]
  },
  {
   "cell_type": "markdown",
   "id": "769f4eb3",
   "metadata": {},
   "source": [
    "### d)"
   ]
  },
  {
   "cell_type": "code",
   "execution_count": 7,
   "id": "ea4f7c2d",
   "metadata": {},
   "outputs": [
    {
     "name": "stdout",
     "output_type": "stream",
     "text": [
      "Angle of length scale: 2.995 arcmin\n"
     ]
    }
   ],
   "source": [
    "print(f\"Angle of length scale: {14/cosmo_4._D_M(1000) * 180/np.pi * 60:.4} arcmin\")"
   ]
  }
 ],
 "metadata": {
  "kernelspec": {
   "display_name": "Python 3 (ipykernel)",
   "language": "python",
   "name": "python3"
  },
  "language_info": {
   "codemirror_mode": {
    "name": "ipython",
    "version": 3
   },
   "file_extension": ".py",
   "mimetype": "text/x-python",
   "name": "python",
   "nbconvert_exporter": "python",
   "pygments_lexer": "ipython3",
   "version": "3.9.7"
  }
 },
 "nbformat": 4,
 "nbformat_minor": 5
}
