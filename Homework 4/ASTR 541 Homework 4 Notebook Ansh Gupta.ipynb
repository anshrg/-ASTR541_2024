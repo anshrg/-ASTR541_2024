{
 "cells": [
  {
   "cell_type": "markdown",
   "id": "833bf97e",
   "metadata": {},
   "source": [
    "# PHYS 320 Homework 4 Code Notebook\n",
    "#### By Ansh Gupta"
   ]
  },
  {
   "cell_type": "code",
   "execution_count": 1,
   "id": "62ff6ab6",
   "metadata": {},
   "outputs": [],
   "source": [
    "import numpy as np"
   ]
  },
  {
   "cell_type": "markdown",
   "id": "99ab3d20",
   "metadata": {},
   "source": [
    "## Problem 2"
   ]
  },
  {
   "cell_type": "code",
   "execution_count": 2,
   "id": "bd652c82",
   "metadata": {},
   "outputs": [],
   "source": [
    "def D_lambda_0(z, omega_m=0.3):\n",
    "    x = 1/(1+z) * (1-omega_m)/omega_m\n",
    "    term3 = 3*np.sqrt(1+x) / (x**(3/2)) * np.log(np.sqrt(1+x) - np.sqrt(x))\n",
    "    return 1 + 3/x + term3"
   ]
  },
  {
   "cell_type": "code",
   "execution_count": 3,
   "id": "30a024c7",
   "metadata": {},
   "outputs": [
    {
     "name": "stdout",
     "output_type": "stream",
     "text": [
      "Growth of perturbations from z=99 to today: 46.29\n",
      "Growth of perturbations from z=1 to today: 1.48\n"
     ]
    }
   ],
   "source": [
    "# Results for a universe with omega_m = 0.3, omega_l = 0\n",
    "print(f'Growth of perturbations from z=99 to today: {D_lambda_0(0)/D_lambda_0(99):.4}')\n",
    "print(f'Growth of perturbations from z=1 to today: {D_lambda_0(0)/D_lambda_0(1):.3}')"
   ]
  },
  {
   "cell_type": "markdown",
   "id": "83c6e0cf",
   "metadata": {},
   "source": [
    "In a universe with $\\Omega_m = 1$, the mode of perturbations with growing amplitude increases proportionally to R, or $D \\propto (1+z)^{-1}$. That means that from $z=99$ to now, D, and thus any perturbation, would have grown by a factor of 100. And from $z=1$ to now, a perturbation would have grown by a factor of 2. The $\\Omega_m = 1$ universe has perturbations which grow to a greater scale than those in the $\\Omega_m = 0.3$ universe."
   ]
  },
  {
   "cell_type": "code",
   "execution_count": 4,
   "id": "bdbdf764",
   "metadata": {},
   "outputs": [],
   "source": [
    "def D_D0_lambda_nonzero(z, omega_m=0.3, omega_l=0.7):\n",
    "    prefactor = 5*omega_m/2 * (1+z)\n",
    "    term3 = (1 + omega_m/2) * (1 + omega_l/70)\n",
    "    return prefactor * (omega_m**(4/7) - omega_l + term3)**(-1)"
   ]
  },
  {
   "cell_type": "code",
   "execution_count": 5,
   "id": "2b2729dd",
   "metadata": {},
   "outputs": [
    {
     "name": "stdout",
     "output_type": "stream",
     "text": [
      "Growth of perturbations from z=99 to today: 77.79\n"
     ]
    }
   ],
   "source": [
    "# Results for a universe with omega_m = 0.3, omega_l = 0.7\n",
    "print(f'Growth of perturbations from z=99 to today: {D_D0_lambda_nonzero(99):.4}')"
   ]
  },
  {
   "cell_type": "markdown",
   "id": "7b2b380f",
   "metadata": {},
   "source": [
    "With $\\Omega_m = 0.3$ and $\\Omega_\\Lambda = 0.7$, perturbations grow to a larger scale from the same redshifts to today than in a universe with the same matter density parameter but with $\\Omega_\\Lambda = 0$. This makes some sense, as a more rapidly expanding universe should blow up the scale of any perturbations. However, the perturbations still do not grow as much as in a universe with $\\Omega_m = 1$ and $\\Omega_\\Lambda = 0$."
   ]
  }
 ],
 "metadata": {
  "kernelspec": {
   "display_name": "Python 3 (ipykernel)",
   "language": "python",
   "name": "python3"
  },
  "language_info": {
   "codemirror_mode": {
    "name": "ipython",
    "version": 3
   },
   "file_extension": ".py",
   "mimetype": "text/x-python",
   "name": "python",
   "nbconvert_exporter": "python",
   "pygments_lexer": "ipython3",
   "version": "3.9.7"
  }
 },
 "nbformat": 4,
 "nbformat_minor": 5
}
